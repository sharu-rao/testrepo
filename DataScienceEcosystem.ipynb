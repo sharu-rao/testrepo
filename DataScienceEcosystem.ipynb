{
 "cells": [
  {
   "cell_type": "markdown",
   "id": "ea227786-0780-434d-bfb1-e8d4071f6de1",
   "metadata": {},
   "source": [
    "# Data Science Tools and Ecosystem"
   ]
  },
  {
   "cell_type": "markdown",
   "id": "b92c74d0-dd4b-4f4a-b002-af61cc3ff5a8",
   "metadata": {},
   "source": [
    "### In this notebook, Data Science Tools and Ecosystem are summarized."
   ]
  },
  {
   "cell_type": "markdown",
   "id": "7bfc68c7-ed78-462f-a0f8-c390c114a8b1",
   "metadata": {},
   "source": [
    "#### Some of the popular languages that Data Scientists use are:\n",
    "1. Python\n",
    "2. SQL\n",
    "3. R\n",
    "4. Julia"
   ]
  },
  {
   "cell_type": "markdown",
   "id": "fb547d97-57d5-49e8-83a0-7694137ad570",
   "metadata": {},
   "source": [
    "#### Some of the commonly used libraries used by Data Scientists include:\n",
    "1. NumPy\n",
    "2. Pandas\n",
    "3. Matplotlib\n",
    "4. Keras\n",
    "5. Tensorflow"
   ]
  },
  {
   "cell_type": "markdown",
   "id": "97d6f167-85cb-4547-bbc7-770422c94ea0",
   "metadata": {
    "tags": []
   },
   "source": [
    "#### Data Science Tools:\n",
    "\n",
    "| Data Science Tools |\n",
    "|--------------------|\n",
    "| Jupyter Notebooks  |\n",
    "| PyCharm            |\n",
    "| RStudio            |"
   ]
  },
  {
   "cell_type": "markdown",
   "id": "cf549a76-ef8b-48e8-af73-aa9ebb513c94",
   "metadata": {},
   "source": [
    "### Below are a few examples of evaluating arithmetic expressions in Python."
   ]
  },
  {
   "cell_type": "code",
   "execution_count": 10,
   "id": "23dd555e-82a3-4a9d-9e8b-54ef728eb532",
   "metadata": {
    "tags": []
   },
   "outputs": [
    {
     "data": {
      "text/plain": [
       "5"
      ]
     },
     "execution_count": 10,
     "metadata": {},
     "output_type": "execute_result"
    }
   ],
   "source": [
    "# 1. Addition:\n",
    "sum = 2 + 3\n",
    "sum"
   ]
  },
  {
   "cell_type": "code",
   "execution_count": 11,
   "id": "d4d4aa37-51ac-4b3a-ad4b-02ba86409e7a",
   "metadata": {
    "tags": []
   },
   "outputs": [
    {
     "data": {
      "text/plain": [
       "4"
      ]
     },
     "execution_count": 11,
     "metadata": {},
     "output_type": "execute_result"
    }
   ],
   "source": [
    "# 2. Subtraction:\n",
    "minus = 6-2\n",
    "minus"
   ]
  },
  {
   "cell_type": "code",
   "execution_count": 12,
   "id": "ca0cff9c-c3ca-49a3-98d4-64daebe8c904",
   "metadata": {
    "tags": []
   },
   "outputs": [
    {
     "data": {
      "text/plain": [
       "12"
      ]
     },
     "execution_count": 12,
     "metadata": {},
     "output_type": "execute_result"
    }
   ],
   "source": [
    "# 3. Multiplication:\n",
    "prod = 6 * 2\n",
    "prod"
   ]
  },
  {
   "cell_type": "code",
   "execution_count": 13,
   "id": "95b2c973-6394-422d-aaf0-dfc20d97de8f",
   "metadata": {
    "tags": []
   },
   "outputs": [
    {
     "data": {
      "text/plain": [
       "3.0"
      ]
     },
     "execution_count": 13,
     "metadata": {},
     "output_type": "execute_result"
    }
   ],
   "source": [
    "# 4. Division:\n",
    "div = 6/2\n",
    "div"
   ]
  },
  {
   "cell_type": "code",
   "execution_count": 14,
   "id": "0fe4c84c-d2a1-4480-b1c0-530a71514577",
   "metadata": {
    "tags": []
   },
   "outputs": [
    {
     "data": {
      "text/plain": [
       "17"
      ]
     },
     "execution_count": 14,
     "metadata": {},
     "output_type": "execute_result"
    }
   ],
   "source": [
    "# This a simple arithmetic expression to mutiply then add integers.\n",
    "(3*4)+5"
   ]
  },
  {
   "cell_type": "code",
   "execution_count": 15,
   "id": "4d715cb8-f4bd-4605-825e-c541a69c9acb",
   "metadata": {
    "tags": []
   },
   "outputs": [
    {
     "data": {
      "text/plain": [
       "3.3333333333333335"
      ]
     },
     "execution_count": 15,
     "metadata": {},
     "output_type": "execute_result"
    }
   ],
   "source": [
    "# This will convert 200 minutes to hours by dividing by 60.\n",
    "mins = 200\n",
    "hrs = mins / 60\n",
    "hrs"
   ]
  },
  {
   "cell_type": "markdown",
   "id": "3d91e51b-1b5b-4c18-bd07-91d9d5a53b0c",
   "metadata": {},
   "source": [
    "**Objectives:**\n",
    "- List popular languages for Data Science\n",
    "- List common libraries for Data Science\n",
    "- List common Data Science tools\n",
    "- Examples of arithmetic expressions usage\n",
    "- Examples of multiple operations  "
   ]
  },
  {
   "cell_type": "markdown",
   "id": "410cea33-d77e-43b7-8545-e91dbd4fc89f",
   "metadata": {},
   "source": [
    "## Author\n",
    "K Sharanya"
   ]
  },
  {
   "cell_type": "code",
   "execution_count": null,
   "id": "42693a48-5960-41de-b2cf-a76be1bfc4db",
   "metadata": {},
   "outputs": [],
   "source": []
  }
 ],
 "metadata": {
  "kernelspec": {
   "display_name": "Python",
   "language": "python",
   "name": "conda-env-python-py"
  },
  "language_info": {
   "codemirror_mode": {
    "name": "ipython",
    "version": 3
   },
   "file_extension": ".py",
   "mimetype": "text/x-python",
   "name": "python",
   "nbconvert_exporter": "python",
   "pygments_lexer": "ipython3",
   "version": "3.7.12"
  }
 },
 "nbformat": 4,
 "nbformat_minor": 5
}
